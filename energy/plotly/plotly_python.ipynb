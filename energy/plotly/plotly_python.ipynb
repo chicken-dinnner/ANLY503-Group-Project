{
 "cells": [
  {
   "cell_type": "code",
   "execution_count": 1,
   "metadata": {},
   "outputs": [
    {
     "name": "stdout",
     "output_type": "stream",
     "text": [
      "2.1.0\n"
     ]
    }
   ],
   "source": [
    "import pandas as pd\n",
    "import numpy as np\n",
    "import plotly.plotly as py\n",
    "from plotly.graph_objs import *\n",
    "from plotly import __version__\n",
    "from plotly.offline import download_plotlyjs, init_notebook_mode, plot,iplot\n",
    "import plotly.graph_objs as go\n",
    "print (__version__) # requires version >= 1.9.0"
   ]
  },
  {
   "cell_type": "code",
   "execution_count": 2,
   "metadata": {},
   "outputs": [],
   "source": [
    "df = pd.read_csv('energy.csv')"
   ]
  },
  {
   "cell_type": "code",
   "execution_count": 12,
   "metadata": {},
   "outputs": [
    {
     "data": {
      "text/html": [
       "<div>\n",
       "<style scoped>\n",
       "    .dataframe tbody tr th:only-of-type {\n",
       "        vertical-align: middle;\n",
       "    }\n",
       "\n",
       "    .dataframe tbody tr th {\n",
       "        vertical-align: top;\n",
       "    }\n",
       "\n",
       "    .dataframe thead th {\n",
       "        text-align: right;\n",
       "    }\n",
       "</style>\n",
       "<table border=\"1\" class=\"dataframe\">\n",
       "  <thead>\n",
       "    <tr style=\"text-align: right;\">\n",
       "      <th></th>\n",
       "      <th>country</th>\n",
       "      <th>crude_oil_production</th>\n",
       "      <th>crude_oil_consumption</th>\n",
       "      <th>gas_production</th>\n",
       "      <th>gas_consumption</th>\n",
       "      <th>coal_production</th>\n",
       "      <th>coal_consumption</th>\n",
       "      <th>renew_share</th>\n",
       "      <th>energy_intensity</th>\n",
       "      <th>co2_intensity</th>\n",
       "      <th>Unnamed: 10</th>\n",
       "    </tr>\n",
       "  </thead>\n",
       "  <tbody>\n",
       "    <tr>\n",
       "      <th>0</th>\n",
       "      <td>Belgium</td>\n",
       "      <td>0</td>\n",
       "      <td>36</td>\n",
       "      <td>0</td>\n",
       "      <td>18</td>\n",
       "      <td>0</td>\n",
       "      <td>4</td>\n",
       "      <td>0.1865</td>\n",
       "      <td>0.105</td>\n",
       "      <td>0.178</td>\n",
       "      <td>NaN</td>\n",
       "    </tr>\n",
       "    <tr>\n",
       "      <th>1</th>\n",
       "      <td>Czech Rep.</td>\n",
       "      <td>0</td>\n",
       "      <td>8</td>\n",
       "      <td>0</td>\n",
       "      <td>9</td>\n",
       "      <td>45</td>\n",
       "      <td>45</td>\n",
       "      <td>0.1245</td>\n",
       "      <td>0.115</td>\n",
       "      <td>0.278</td>\n",
       "      <td>NaN</td>\n",
       "    </tr>\n",
       "    <tr>\n",
       "      <th>2</th>\n",
       "      <td>France</td>\n",
       "      <td>1</td>\n",
       "      <td>60</td>\n",
       "      <td>0</td>\n",
       "      <td>45</td>\n",
       "      <td>0</td>\n",
       "      <td>15</td>\n",
       "      <td>0.1756</td>\n",
       "      <td>0.086</td>\n",
       "      <td>0.115</td>\n",
       "      <td>NaN</td>\n",
       "    </tr>\n",
       "    <tr>\n",
       "      <th>3</th>\n",
       "      <td>Germany</td>\n",
       "      <td>4</td>\n",
       "      <td>101</td>\n",
       "      <td>7</td>\n",
       "      <td>94</td>\n",
       "      <td>175</td>\n",
       "      <td>222</td>\n",
       "      <td>0.3398</td>\n",
       "      <td>0.077</td>\n",
       "      <td>0.192</td>\n",
       "      <td>NaN</td>\n",
       "    </tr>\n",
       "    <tr>\n",
       "      <th>4</th>\n",
       "      <td>Italy</td>\n",
       "      <td>6</td>\n",
       "      <td>73</td>\n",
       "      <td>6</td>\n",
       "      <td>75</td>\n",
       "      <td>0</td>\n",
       "      <td>15</td>\n",
       "      <td>0.3574</td>\n",
       "      <td>0.066</td>\n",
       "      <td>0.141</td>\n",
       "      <td>NaN</td>\n",
       "    </tr>\n",
       "  </tbody>\n",
       "</table>\n",
       "</div>"
      ],
      "text/plain": [
       "      country  crude_oil_production  crude_oil_consumption  gas_production  \\\n",
       "0     Belgium                     0                     36               0   \n",
       "1  Czech Rep.                     0                      8               0   \n",
       "2      France                     1                     60               0   \n",
       "3     Germany                     4                    101               7   \n",
       "4       Italy                     6                     73               6   \n",
       "\n",
       "   gas_consumption  coal_production  coal_consumption  renew_share  \\\n",
       "0               18                0                 4       0.1865   \n",
       "1                9               45                45       0.1245   \n",
       "2               45                0                15       0.1756   \n",
       "3               94              175               222       0.3398   \n",
       "4               75                0                15       0.3574   \n",
       "\n",
       "   energy_intensity  co2_intensity  Unnamed: 10  \n",
       "0             0.105          0.178          NaN  \n",
       "1             0.115          0.278          NaN  \n",
       "2             0.086          0.115          NaN  \n",
       "3             0.077          0.192          NaN  \n",
       "4             0.066          0.141          NaN  "
      ]
     },
     "execution_count": 12,
     "metadata": {},
     "output_type": "execute_result"
    }
   ],
   "source": [
    "df.head()"
   ]
  },
  {
   "cell_type": "code",
   "execution_count": 15,
   "metadata": {},
   "outputs": [
    {
     "name": "stderr",
     "output_type": "stream",
     "text": [
      "/anaconda/lib/python3.6/site-packages/ipykernel_launcher.py:4: SettingWithCopyWarning:\n",
      "\n",
      "\n",
      "A value is trying to be set on a copy of a slice from a DataFrame\n",
      "\n",
      "See the caveats in the documentation: http://pandas.pydata.org/pandas-docs/stable/indexing.html#indexing-view-versus-copy\n",
      "\n"
     ]
    },
    {
     "data": {
      "text/plain": [
       "'file:///Users/yuyang/Desktop/energy/plotly/temp-plot.html'"
      ]
     },
     "execution_count": 15,
     "metadata": {},
     "output_type": "execute_result"
    }
   ],
   "source": [
    "x, y, z = np.random.multivariate_normal(np.array([0,0,0]), np.eye(3), 44).transpose()\n",
    "x=df['renew_share']\n",
    "for i in range(len(x)):\n",
    "    x[i]=x[i]/100\n",
    "y=df['energy_intensity']\n",
    "z=df['co2_intensity']\n",
    "o=df['coal_consumption']\n",
    "\n",
    "\n",
    "trace1 = go.Scatter3d(\n",
    "    x=x,\n",
    "    y=y,\n",
    "    z=z,\n",
    "    text=df['country'],\n",
    "    mode='markers',\n",
    "    marker=dict(\n",
    "        sizemode='diameter',\n",
    "        sizeref=10,\n",
    "        #size=o,\n",
    "        color = o,\n",
    "        colorscale = 'Viridis',\n",
    "        colorbar = dict(title = 'Coal Consumption (Mt)'),\n",
    "        line=dict(color='rgb(140, 140, 170)')\n",
    "    )\n",
    ")\n",
    "\n",
    "data = [trace1]\n",
    "\n",
    "layout = go.Layout(\n",
    "                    scene = dict(\n",
    "                        xaxis = dict(\n",
    "                            title='Renewable Energy Share'),\n",
    "                        yaxis = dict(\n",
    "                            title='Energy Intensity'),\n",
    "                        zaxis = dict(\n",
    "                            title='CO2 Intensity'),),\n",
    "                    width=700,\n",
    "                    height=800,\n",
    "                    title=\"3D Plot for Correlation among Green Country Indexes and Coal Consumption (Mt)\",\n",
    "                    showlegend=False\n",
    "                  )\n",
    "\n",
    "\n",
    "\n",
    "fig = go.Figure(data=data, layout=layout)\n",
    "plot(fig,show_link = False)"
   ]
  },
  {
   "cell_type": "code",
   "execution_count": 19,
   "metadata": {},
   "outputs": [],
   "source": [
    "df2 = pd.read_csv('data.csv')\n",
    "co2_intensity = []\n",
    "for i in range(1,29):\n",
    "    co2_intensity.append((df2.iloc[45][i]))\n",
    "renewable_share = []\n",
    "for i in range(30,57):\n",
    "    renewable_share.append((df2.iloc[45][i])/100)\n",
    "energy_intensity = []\n",
    "for i in range(58,85):\n",
    "    energy_intensity.append((df2.iloc[45][i]))\n",
    "year = list(range(1990,2018))"
   ]
  },
  {
   "cell_type": "code",
   "execution_count": 20,
   "metadata": {},
   "outputs": [
    {
     "data": {
      "text/plain": [
       "'file:///Users/yuyang/Desktop/energy/plotly/temp-plot.html'"
      ]
     },
     "execution_count": 20,
     "metadata": {},
     "output_type": "execute_result"
    }
   ],
   "source": [
    "trace_high = go.Scatter(\n",
    "    x=year,\n",
    "    y=co2_intensity,\n",
    "    name = \"CO2 Intensity\",\n",
    "    line = dict(color = '#17BECF'),\n",
    "    opacity = 0.8)\n",
    "\n",
    "trace_medium = go.Scatter(\n",
    "    x=year,\n",
    "    y=energy_intensity,\n",
    "    name = \"Energy Intensity\",\n",
    "    line = dict(color = '#7F7F7F'),\n",
    "    opacity = 0.8)\n",
    "\n",
    "trace_low = go.Scatter(\n",
    "    x=year,\n",
    "    y=renewable_share,\n",
    "    name = \"Renewable Share\",\n",
    "    line = dict(color = '#7F7F7F'),\n",
    "    opacity = 0.8)\n",
    "\n",
    "data = [trace_high,trace_medium,trace_low]\n",
    "\n",
    "layout = dict(\n",
    "    title='Time Series with Green Economic Index',\n",
    "    xaxis=dict(\n",
    "        rangeselector=dict(\n",
    "            buttons=list([\n",
    "                dict(count=1,\n",
    "                     label='1m',\n",
    "                     step='month',\n",
    "                     stepmode='backward'),\n",
    "                dict(count=6,\n",
    "                     label='6m',\n",
    "                     step='month',\n",
    "                     stepmode='backward'),\n",
    "                dict(step='all')\n",
    "            ])\n",
    "        ),\n",
    "        rangeslider=dict(\n",
    "            visible = True\n",
    "        ),\n",
    "        type='date'\n",
    "    )\n",
    ")\n",
    "\n",
    "fig = dict(data=data, layout=layout)\n",
    "#py.iplot(fig, filename = \"Time Series with Rangeslider\")\n",
    "plot(fig,show_link = False)"
   ]
  },
  {
   "cell_type": "code",
   "execution_count": null,
   "metadata": {
    "collapsed": true
   },
   "outputs": [],
   "source": []
  }
 ],
 "metadata": {
  "kernelspec": {
   "display_name": "Python 3",
   "language": "python",
   "name": "python3"
  },
  "language_info": {
   "codemirror_mode": {
    "name": "ipython",
    "version": 3
   },
   "file_extension": ".py",
   "mimetype": "text/x-python",
   "name": "python",
   "nbconvert_exporter": "python",
   "pygments_lexer": "ipython3",
   "version": "3.6.1"
  }
 },
 "nbformat": 4,
 "nbformat_minor": 2
}
