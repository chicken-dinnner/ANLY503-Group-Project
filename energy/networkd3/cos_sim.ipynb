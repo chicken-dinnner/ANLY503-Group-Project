{
 "cells": [
  {
   "cell_type": "code",
   "execution_count": 7,
   "metadata": {
    "collapsed": true
   },
   "outputs": [],
   "source": [
    "import pandas as pd\n",
    "import numpy as np"
   ]
  },
  {
   "cell_type": "code",
   "execution_count": 8,
   "metadata": {
    "collapsed": true
   },
   "outputs": [],
   "source": [
    "df = pd.read_csv('energy.csv')"
   ]
  },
  {
   "cell_type": "code",
   "execution_count": 9,
   "metadata": {},
   "outputs": [
    {
     "data": {
      "text/html": [
       "<div>\n",
       "<style scoped>\n",
       "    .dataframe tbody tr th:only-of-type {\n",
       "        vertical-align: middle;\n",
       "    }\n",
       "\n",
       "    .dataframe tbody tr th {\n",
       "        vertical-align: top;\n",
       "    }\n",
       "\n",
       "    .dataframe thead th {\n",
       "        text-align: right;\n",
       "    }\n",
       "</style>\n",
       "<table border=\"1\" class=\"dataframe\">\n",
       "  <thead>\n",
       "    <tr style=\"text-align: right;\">\n",
       "      <th></th>\n",
       "      <th>country</th>\n",
       "      <th>crude_oil_production</th>\n",
       "      <th>crude_oil_consumption</th>\n",
       "      <th>gas_production</th>\n",
       "      <th>gas_consumption</th>\n",
       "      <th>coal_production</th>\n",
       "      <th>coal_consumption</th>\n",
       "      <th>renew_share</th>\n",
       "      <th>energy_intensity</th>\n",
       "      <th>co2_intensity</th>\n",
       "    </tr>\n",
       "  </thead>\n",
       "  <tbody>\n",
       "    <tr>\n",
       "      <th>0</th>\n",
       "      <td>Belgium</td>\n",
       "      <td>0</td>\n",
       "      <td>36</td>\n",
       "      <td>0</td>\n",
       "      <td>18</td>\n",
       "      <td>0</td>\n",
       "      <td>4</td>\n",
       "      <td>18.65</td>\n",
       "      <td>0.105</td>\n",
       "      <td>0.178</td>\n",
       "    </tr>\n",
       "    <tr>\n",
       "      <th>1</th>\n",
       "      <td>Czech Rep.</td>\n",
       "      <td>0</td>\n",
       "      <td>8</td>\n",
       "      <td>0</td>\n",
       "      <td>9</td>\n",
       "      <td>45</td>\n",
       "      <td>45</td>\n",
       "      <td>12.45</td>\n",
       "      <td>0.115</td>\n",
       "      <td>0.278</td>\n",
       "    </tr>\n",
       "    <tr>\n",
       "      <th>2</th>\n",
       "      <td>France</td>\n",
       "      <td>1</td>\n",
       "      <td>60</td>\n",
       "      <td>0</td>\n",
       "      <td>45</td>\n",
       "      <td>0</td>\n",
       "      <td>15</td>\n",
       "      <td>17.56</td>\n",
       "      <td>0.086</td>\n",
       "      <td>0.115</td>\n",
       "    </tr>\n",
       "    <tr>\n",
       "      <th>3</th>\n",
       "      <td>Germany</td>\n",
       "      <td>4</td>\n",
       "      <td>101</td>\n",
       "      <td>7</td>\n",
       "      <td>94</td>\n",
       "      <td>175</td>\n",
       "      <td>222</td>\n",
       "      <td>33.98</td>\n",
       "      <td>0.077</td>\n",
       "      <td>0.192</td>\n",
       "    </tr>\n",
       "    <tr>\n",
       "      <th>4</th>\n",
       "      <td>Italy</td>\n",
       "      <td>6</td>\n",
       "      <td>73</td>\n",
       "      <td>6</td>\n",
       "      <td>75</td>\n",
       "      <td>0</td>\n",
       "      <td>15</td>\n",
       "      <td>35.74</td>\n",
       "      <td>0.066</td>\n",
       "      <td>0.141</td>\n",
       "    </tr>\n",
       "  </tbody>\n",
       "</table>\n",
       "</div>"
      ],
      "text/plain": [
       "      country  crude_oil_production  crude_oil_consumption  gas_production  \\\n",
       "0     Belgium                     0                     36               0   \n",
       "1  Czech Rep.                     0                      8               0   \n",
       "2      France                     1                     60               0   \n",
       "3     Germany                     4                    101               7   \n",
       "4       Italy                     6                     73               6   \n",
       "\n",
       "   gas_consumption  coal_production  coal_consumption  renew_share  \\\n",
       "0               18                0                 4        18.65   \n",
       "1                9               45                45        12.45   \n",
       "2               45                0                15        17.56   \n",
       "3               94              175               222        33.98   \n",
       "4               75                0                15        35.74   \n",
       "\n",
       "   energy_intensity  co2_intensity  \n",
       "0             0.105          0.178  \n",
       "1             0.115          0.278  \n",
       "2             0.086          0.115  \n",
       "3             0.077          0.192  \n",
       "4             0.066          0.141  "
      ]
     },
     "execution_count": 9,
     "metadata": {},
     "output_type": "execute_result"
    }
   ],
   "source": [
    "df.head()"
   ]
  },
  {
   "cell_type": "code",
   "execution_count": 10,
   "metadata": {
    "collapsed": true
   },
   "outputs": [],
   "source": [
    "def normalize(df,cols):\n",
    "    result = df.copy()\n",
    "    for feature_name in cols:\n",
    "        max_value = df[feature_name].max()\n",
    "        min_value = df[feature_name].min()\n",
    "        result[feature_name] = (df[feature_name] - min_value) / (max_value - min_value)\n",
    "    return result\n",
    "\n",
    "cols = ['crude_oil_production','crude_oil_consumption','gas_production','gas_consumption','coal_production','coal_consumption','renew_share','energy_intensity','co2_intensity']\n",
    "new = normalize(df,cols)"
   ]
  },
  {
   "cell_type": "code",
   "execution_count": 12,
   "metadata": {},
   "outputs": [
    {
     "data": {
      "text/html": [
       "<div>\n",
       "<style scoped>\n",
       "    .dataframe tbody tr th:only-of-type {\n",
       "        vertical-align: middle;\n",
       "    }\n",
       "\n",
       "    .dataframe tbody tr th {\n",
       "        vertical-align: top;\n",
       "    }\n",
       "\n",
       "    .dataframe thead th {\n",
       "        text-align: right;\n",
       "    }\n",
       "</style>\n",
       "<table border=\"1\" class=\"dataframe\">\n",
       "  <thead>\n",
       "    <tr style=\"text-align: right;\">\n",
       "      <th></th>\n",
       "      <th>country</th>\n",
       "      <th>crude_oil_production</th>\n",
       "      <th>crude_oil_consumption</th>\n",
       "      <th>gas_production</th>\n",
       "      <th>gas_consumption</th>\n",
       "      <th>coal_production</th>\n",
       "      <th>coal_consumption</th>\n",
       "      <th>renew_share</th>\n",
       "      <th>energy_intensity</th>\n",
       "      <th>co2_intensity</th>\n",
       "    </tr>\n",
       "  </thead>\n",
       "  <tbody>\n",
       "    <tr>\n",
       "      <th>0</th>\n",
       "      <td>Belgium</td>\n",
       "      <td>0.000000</td>\n",
       "      <td>0.040524</td>\n",
       "      <td>0.000000</td>\n",
       "      <td>0.022339</td>\n",
       "      <td>0.000000</td>\n",
       "      <td>0.001109</td>\n",
       "      <td>0.190559</td>\n",
       "      <td>0.269430</td>\n",
       "      <td>0.220370</td>\n",
       "    </tr>\n",
       "    <tr>\n",
       "      <th>1</th>\n",
       "      <td>Czech Rep.</td>\n",
       "      <td>0.000000</td>\n",
       "      <td>0.007151</td>\n",
       "      <td>0.000000</td>\n",
       "      <td>0.010512</td>\n",
       "      <td>0.013437</td>\n",
       "      <td>0.012476</td>\n",
       "      <td>0.127210</td>\n",
       "      <td>0.321244</td>\n",
       "      <td>0.405556</td>\n",
       "    </tr>\n",
       "    <tr>\n",
       "      <th>2</th>\n",
       "      <td>France</td>\n",
       "      <td>0.001724</td>\n",
       "      <td>0.069130</td>\n",
       "      <td>0.000000</td>\n",
       "      <td>0.057819</td>\n",
       "      <td>0.000000</td>\n",
       "      <td>0.004159</td>\n",
       "      <td>0.179422</td>\n",
       "      <td>0.170984</td>\n",
       "      <td>0.103704</td>\n",
       "    </tr>\n",
       "    <tr>\n",
       "      <th>3</th>\n",
       "      <td>Germany</td>\n",
       "      <td>0.006897</td>\n",
       "      <td>0.117998</td>\n",
       "      <td>0.009126</td>\n",
       "      <td>0.122208</td>\n",
       "      <td>0.052254</td>\n",
       "      <td>0.061547</td>\n",
       "      <td>0.347195</td>\n",
       "      <td>0.124352</td>\n",
       "      <td>0.246296</td>\n",
       "    </tr>\n",
       "    <tr>\n",
       "      <th>4</th>\n",
       "      <td>Italy</td>\n",
       "      <td>0.010345</td>\n",
       "      <td>0.084625</td>\n",
       "      <td>0.007823</td>\n",
       "      <td>0.097240</td>\n",
       "      <td>0.000000</td>\n",
       "      <td>0.004159</td>\n",
       "      <td>0.365178</td>\n",
       "      <td>0.067358</td>\n",
       "      <td>0.151852</td>\n",
       "    </tr>\n",
       "  </tbody>\n",
       "</table>\n",
       "</div>"
      ],
      "text/plain": [
       "      country  crude_oil_production  crude_oil_consumption  gas_production  \\\n",
       "0     Belgium              0.000000               0.040524        0.000000   \n",
       "1  Czech Rep.              0.000000               0.007151        0.000000   \n",
       "2      France              0.001724               0.069130        0.000000   \n",
       "3     Germany              0.006897               0.117998        0.009126   \n",
       "4       Italy              0.010345               0.084625        0.007823   \n",
       "\n",
       "   gas_consumption  coal_production  coal_consumption  renew_share  \\\n",
       "0         0.022339         0.000000          0.001109     0.190559   \n",
       "1         0.010512         0.013437          0.012476     0.127210   \n",
       "2         0.057819         0.000000          0.004159     0.179422   \n",
       "3         0.122208         0.052254          0.061547     0.347195   \n",
       "4         0.097240         0.000000          0.004159     0.365178   \n",
       "\n",
       "   energy_intensity  co2_intensity  \n",
       "0          0.269430       0.220370  \n",
       "1          0.321244       0.405556  \n",
       "2          0.170984       0.103704  \n",
       "3          0.124352       0.246296  \n",
       "4          0.067358       0.151852  "
      ]
     },
     "execution_count": 12,
     "metadata": {},
     "output_type": "execute_result"
    }
   ],
   "source": [
    "new.head()"
   ]
  },
  {
   "cell_type": "code",
   "execution_count": 13,
   "metadata": {
    "collapsed": true
   },
   "outputs": [],
   "source": [
    "vecs = []\n",
    "features = cols\n",
    "for index, row in new.iterrows():\n",
    "    vec = []\n",
    "    vec.append(row['crude_oil_production'])\n",
    "    vec.append(row['crude_oil_consumption'])\n",
    "    vec.append(row['gas_production'])\n",
    "    vec.append(row['gas_consumption'])\n",
    "    vec.append(row['coal_production'])\n",
    "    vec.append(row['coal_consumption'])\n",
    "    vec.append(row['renew_share'])\n",
    "    vec.append(row['energy_intensity'])\n",
    "    vec.append(row['co2_intensity'])\n",
    "    vecs.append(vec)"
   ]
  },
  {
   "cell_type": "code",
   "execution_count": 14,
   "metadata": {
    "collapsed": true
   },
   "outputs": [],
   "source": [
    "cos_sim_list = []\n",
    "sim_index_list = []"
   ]
  },
  {
   "cell_type": "code",
   "execution_count": 15,
   "metadata": {
    "collapsed": true
   },
   "outputs": [],
   "source": [
    "def dot(A,B): \n",
    "    return (sum(a*b for a,b in zip(A,B)))\n",
    "def cosine_similarity(a,b):\n",
    "    return dot(a,b) / ( (dot(a,a) **.5) * (dot(b,b) ** .5) )"
   ]
  },
  {
   "cell_type": "code",
   "execution_count": 9,
   "metadata": {
    "collapsed": true
   },
   "outputs": [],
   "source": [
    "def generate_same_state_index(index):\n",
    "    lis = []\n",
    "    initial = (index+1)%52-1\n",
    "    if initial == -1:\n",
    "        initial = 51\n",
    "    for i in range(17):\n",
    "        temp = initial + i*52\n",
    "        lis.append(temp)\n",
    "    return lis        "
   ]
  },
  {
   "cell_type": "code",
   "execution_count": 10,
   "metadata": {
    "collapsed": true
   },
   "outputs": [],
   "source": [
    "vec_index = 0\n",
    "for vec1 in vecs:\n",
    "    cos_sim_list = []\n",
    "    for vec2 in vecs:\n",
    "        cos_sim_list.append(cosine_similarity(vec1,vec2))\n",
    "    cos_sim_list = np.array(cos_sim_list)\n",
    "    choices = cos_sim_list.argsort()[-21:][::-1][1:21]\n",
    "    same = generate_same_state_index(vec_index)\n",
    "    record =[]\n",
    "    for choice in choices:\n",
    "        if choice not in same:\n",
    "            record.append(choice)\n",
    "        if len(record)==3:\n",
    "            break\n",
    "    sim_index_list.append(record)\n",
    "    vec_index+=1"
   ]
  },
  {
   "cell_type": "code",
   "execution_count": 11,
   "metadata": {
    "collapsed": true
   },
   "outputs": [],
   "source": [
    "col_edgelist = ['SourceNmae','TargetName','SourceID','TargetID','CosSim']\n",
    "edgelist = pd.DataFrame(columns = col_edgelist)"
   ]
  },
  {
   "cell_type": "code",
   "execution_count": 12,
   "metadata": {
    "collapsed": true
   },
   "outputs": [],
   "source": [
    "source_index = 0\n",
    "for indexes in sim_index_list:\n",
    "    for target_index in indexes:\n",
    "        \n",
    "        source_name = str(new.loc[source_index]['year'])+'_'+new.loc[source_index]['state']\n",
    "        target_name = str(new.loc[target_index]['year'])+'_'+new.loc[target_index]['state']\n",
    "        cos_sim = cosine_similarity(vecs[source_index],vecs[target_index])\n",
    "        \n",
    "        record = [source_name,target_name,source_index,target_index,cos_sim]\n",
    "\n",
    "        edgelist.loc[len(edgelist)] = record\n",
    "    #print(source_index)\n",
    "    source_index+=1"
   ]
  },
  {
   "cell_type": "code",
   "execution_count": 13,
   "metadata": {},
   "outputs": [
    {
     "data": {
      "text/html": [
       "<div>\n",
       "<style scoped>\n",
       "    .dataframe tbody tr th:only-of-type {\n",
       "        vertical-align: middle;\n",
       "    }\n",
       "\n",
       "    .dataframe tbody tr th {\n",
       "        vertical-align: top;\n",
       "    }\n",
       "\n",
       "    .dataframe thead th {\n",
       "        text-align: right;\n",
       "    }\n",
       "</style>\n",
       "<table border=\"1\" class=\"dataframe\">\n",
       "  <thead>\n",
       "    <tr style=\"text-align: right;\">\n",
       "      <th></th>\n",
       "      <th>SourceNmae</th>\n",
       "      <th>TargetName</th>\n",
       "      <th>SourceID</th>\n",
       "      <th>TargetID</th>\n",
       "      <th>CosSim</th>\n",
       "    </tr>\n",
       "  </thead>\n",
       "  <tbody>\n",
       "    <tr>\n",
       "      <th>0</th>\n",
       "      <td>1999_Alabama</td>\n",
       "      <td>2003_Ohio</td>\n",
       "      <td>0</td>\n",
       "      <td>243</td>\n",
       "      <td>0.999351</td>\n",
       "    </tr>\n",
       "    <tr>\n",
       "      <th>1</th>\n",
       "      <td>1999_Alabama</td>\n",
       "      <td>2000_South Carolina</td>\n",
       "      <td>0</td>\n",
       "      <td>92</td>\n",
       "      <td>0.999348</td>\n",
       "    </tr>\n",
       "    <tr>\n",
       "      <th>2</th>\n",
       "      <td>1999_Alabama</td>\n",
       "      <td>2003_Idaho</td>\n",
       "      <td>0</td>\n",
       "      <td>220</td>\n",
       "      <td>0.997922</td>\n",
       "    </tr>\n",
       "    <tr>\n",
       "      <th>3</th>\n",
       "      <td>1999_Alaska</td>\n",
       "      <td>2002_Minnesota</td>\n",
       "      <td>1</td>\n",
       "      <td>179</td>\n",
       "      <td>0.988412</td>\n",
       "    </tr>\n",
       "    <tr>\n",
       "      <th>4</th>\n",
       "      <td>1999_Alaska</td>\n",
       "      <td>2001_New Hampshire</td>\n",
       "      <td>1</td>\n",
       "      <td>133</td>\n",
       "      <td>0.983352</td>\n",
       "    </tr>\n",
       "  </tbody>\n",
       "</table>\n",
       "</div>"
      ],
      "text/plain": [
       "     SourceNmae           TargetName SourceID TargetID    CosSim\n",
       "0  1999_Alabama            2003_Ohio        0      243  0.999351\n",
       "1  1999_Alabama  2000_South Carolina        0       92  0.999348\n",
       "2  1999_Alabama           2003_Idaho        0      220  0.997922\n",
       "3   1999_Alaska       2002_Minnesota        1      179  0.988412\n",
       "4   1999_Alaska   2001_New Hampshire        1      133  0.983352"
      ]
     },
     "execution_count": 13,
     "metadata": {},
     "output_type": "execute_result"
    }
   ],
   "source": [
    "edgelist.head()"
   ]
  },
  {
   "cell_type": "code",
   "execution_count": 14,
   "metadata": {
    "collapsed": true
   },
   "outputs": [],
   "source": [
    "df2 = pd.read_csv('cancer_cos_sim.csv')"
   ]
  },
  {
   "cell_type": "code",
   "execution_count": 15,
   "metadata": {},
   "outputs": [
    {
     "data": {
      "text/html": [
       "<div>\n",
       "<style scoped>\n",
       "    .dataframe tbody tr th:only-of-type {\n",
       "        vertical-align: middle;\n",
       "    }\n",
       "\n",
       "    .dataframe tbody tr th {\n",
       "        vertical-align: top;\n",
       "    }\n",
       "\n",
       "    .dataframe thead th {\n",
       "        text-align: right;\n",
       "    }\n",
       "</style>\n",
       "<table border=\"1\" class=\"dataframe\">\n",
       "  <thead>\n",
       "    <tr style=\"text-align: right;\">\n",
       "      <th></th>\n",
       "      <th>YEAR</th>\n",
       "      <th>POPULATION</th>\n",
       "      <th>COUNT</th>\n",
       "      <th>AGE_ADJUSTED_RATE</th>\n",
       "      <th>AREA</th>\n",
       "    </tr>\n",
       "  </thead>\n",
       "  <tbody>\n",
       "    <tr>\n",
       "      <th>0</th>\n",
       "      <td>1999</td>\n",
       "      <td>4430141</td>\n",
       "      <td>9506</td>\n",
       "      <td>210.8</td>\n",
       "      <td>Alabama</td>\n",
       "    </tr>\n",
       "    <tr>\n",
       "      <th>1</th>\n",
       "      <td>1999</td>\n",
       "      <td>624779</td>\n",
       "      <td>633</td>\n",
       "      <td>193.8</td>\n",
       "      <td>Alaska</td>\n",
       "    </tr>\n",
       "    <tr>\n",
       "      <th>2</th>\n",
       "      <td>1999</td>\n",
       "      <td>5023823</td>\n",
       "      <td>9006</td>\n",
       "      <td>179.8</td>\n",
       "      <td>Arizona</td>\n",
       "    </tr>\n",
       "    <tr>\n",
       "      <th>3</th>\n",
       "      <td>1999</td>\n",
       "      <td>2651860</td>\n",
       "      <td>6137</td>\n",
       "      <td>213.9</td>\n",
       "      <td>Arkansas</td>\n",
       "    </tr>\n",
       "    <tr>\n",
       "      <th>4</th>\n",
       "      <td>1999</td>\n",
       "      <td>33499204</td>\n",
       "      <td>53064</td>\n",
       "      <td>185.1</td>\n",
       "      <td>California</td>\n",
       "    </tr>\n",
       "  </tbody>\n",
       "</table>\n",
       "</div>"
      ],
      "text/plain": [
       "   YEAR  POPULATION  COUNT  AGE_ADJUSTED_RATE        AREA\n",
       "0  1999     4430141   9506              210.8     Alabama\n",
       "1  1999      624779    633              193.8      Alaska\n",
       "2  1999     5023823   9006              179.8     Arizona\n",
       "3  1999     2651860   6137              213.9    Arkansas\n",
       "4  1999    33499204  53064              185.1  California"
      ]
     },
     "execution_count": 15,
     "metadata": {},
     "output_type": "execute_result"
    }
   ],
   "source": [
    "df2.head()"
   ]
  },
  {
   "cell_type": "code",
   "execution_count": 16,
   "metadata": {
    "collapsed": true
   },
   "outputs": [],
   "source": [
    "col_nodelist = ['ID','NodeName','Rate','Vectors']\n",
    "nodelist = pd.DataFrame(columns = col_nodelist)"
   ]
  },
  {
   "cell_type": "code",
   "execution_count": 17,
   "metadata": {},
   "outputs": [
    {
     "data": {
      "text/plain": [
       "867"
      ]
     },
     "execution_count": 17,
     "metadata": {},
     "output_type": "execute_result"
    }
   ],
   "source": [
    "len(df2)"
   ]
  },
  {
   "cell_type": "code",
   "execution_count": 18,
   "metadata": {},
   "outputs": [
    {
     "data": {
      "text/plain": [
       "YEAR                 0\n",
       "POPULATION           0\n",
       "COUNT                0\n",
       "AGE_ADJUSTED_RATE    0\n",
       "AREA                 0\n",
       "dtype: int64"
      ]
     },
     "execution_count": 18,
     "metadata": {},
     "output_type": "execute_result"
    }
   ],
   "source": [
    "df2.isnull().sum()"
   ]
  },
  {
   "cell_type": "code",
   "execution_count": 19,
   "metadata": {},
   "outputs": [
    {
     "data": {
      "text/plain": [
       "year                       0\n",
       "state                      0\n",
       "Diabetes_Value             0\n",
       "Income_Inequity            0\n",
       "Median_Household_Income    0\n",
       "Obesity                    0\n",
       "Smoking                    0\n",
       "dtype: int64"
      ]
     },
     "execution_count": 19,
     "metadata": {},
     "output_type": "execute_result"
    }
   ],
   "source": [
    "new.isnull().sum()"
   ]
  },
  {
   "cell_type": "code",
   "execution_count": 20,
   "metadata": {
    "collapsed": true
   },
   "outputs": [],
   "source": [
    "COLS=['YEAR','AREA','AGE_ADJUSTED_RATE']\n",
    "df3 = pd.merge(new, df2[COLS], how='left', left_on=['year','state'], right_on=['YEAR','AREA'])"
   ]
  },
  {
   "cell_type": "code",
   "execution_count": 21,
   "metadata": {
    "collapsed": true
   },
   "outputs": [],
   "source": [
    "df3 = df3.drop(columns=['YEAR', 'AREA'])"
   ]
  },
  {
   "cell_type": "code",
   "execution_count": 22,
   "metadata": {},
   "outputs": [
    {
     "data": {
      "text/html": [
       "<div>\n",
       "<style scoped>\n",
       "    .dataframe tbody tr th:only-of-type {\n",
       "        vertical-align: middle;\n",
       "    }\n",
       "\n",
       "    .dataframe tbody tr th {\n",
       "        vertical-align: top;\n",
       "    }\n",
       "\n",
       "    .dataframe thead th {\n",
       "        text-align: right;\n",
       "    }\n",
       "</style>\n",
       "<table border=\"1\" class=\"dataframe\">\n",
       "  <thead>\n",
       "    <tr style=\"text-align: right;\">\n",
       "      <th></th>\n",
       "      <th>year</th>\n",
       "      <th>state</th>\n",
       "      <th>Diabetes_Value</th>\n",
       "      <th>Income_Inequity</th>\n",
       "      <th>Median_Household_Income</th>\n",
       "      <th>Obesity</th>\n",
       "      <th>Smoking</th>\n",
       "      <th>AGE_ADJUSTED_RATE</th>\n",
       "    </tr>\n",
       "  </thead>\n",
       "  <tbody>\n",
       "    <tr>\n",
       "      <th>0</th>\n",
       "      <td>1999</td>\n",
       "      <td>Alabama</td>\n",
       "      <td>0.371681</td>\n",
       "      <td>0.304348</td>\n",
       "      <td>0.376656</td>\n",
       "      <td>0.381356</td>\n",
       "      <td>0.659574</td>\n",
       "      <td>210.8</td>\n",
       "    </tr>\n",
       "    <tr>\n",
       "      <th>1</th>\n",
       "      <td>1999</td>\n",
       "      <td>Alaska</td>\n",
       "      <td>0.017699</td>\n",
       "      <td>0.260870</td>\n",
       "      <td>0.854237</td>\n",
       "      <td>0.385593</td>\n",
       "      <td>0.723404</td>\n",
       "      <td>193.8</td>\n",
       "    </tr>\n",
       "    <tr>\n",
       "      <th>2</th>\n",
       "      <td>1999</td>\n",
       "      <td>Arizona</td>\n",
       "      <td>0.000000</td>\n",
       "      <td>0.429348</td>\n",
       "      <td>0.403934</td>\n",
       "      <td>0.033898</td>\n",
       "      <td>0.540426</td>\n",
       "      <td>179.8</td>\n",
       "    </tr>\n",
       "    <tr>\n",
       "      <th>3</th>\n",
       "      <td>1999</td>\n",
       "      <td>Arkansas</td>\n",
       "      <td>0.345133</td>\n",
       "      <td>0.336957</td>\n",
       "      <td>0.091925</td>\n",
       "      <td>0.317797</td>\n",
       "      <td>0.714894</td>\n",
       "      <td>213.9</td>\n",
       "    </tr>\n",
       "    <tr>\n",
       "      <th>4</th>\n",
       "      <td>1999</td>\n",
       "      <td>California</td>\n",
       "      <td>0.238938</td>\n",
       "      <td>0.407609</td>\n",
       "      <td>0.531187</td>\n",
       "      <td>0.211864</td>\n",
       "      <td>0.429787</td>\n",
       "      <td>185.1</td>\n",
       "    </tr>\n",
       "  </tbody>\n",
       "</table>\n",
       "</div>"
      ],
      "text/plain": [
       "   year       state  Diabetes_Value  Income_Inequity  Median_Household_Income  \\\n",
       "0  1999     Alabama        0.371681         0.304348                 0.376656   \n",
       "1  1999      Alaska        0.017699         0.260870                 0.854237   \n",
       "2  1999     Arizona        0.000000         0.429348                 0.403934   \n",
       "3  1999    Arkansas        0.345133         0.336957                 0.091925   \n",
       "4  1999  California        0.238938         0.407609                 0.531187   \n",
       "\n",
       "    Obesity   Smoking  AGE_ADJUSTED_RATE  \n",
       "0  0.381356  0.659574              210.8  \n",
       "1  0.385593  0.723404              193.8  \n",
       "2  0.033898  0.540426              179.8  \n",
       "3  0.317797  0.714894              213.9  \n",
       "4  0.211864  0.429787              185.1  "
      ]
     },
     "execution_count": 22,
     "metadata": {},
     "output_type": "execute_result"
    }
   ],
   "source": [
    "df3.head()"
   ]
  },
  {
   "cell_type": "code",
   "execution_count": 23,
   "metadata": {},
   "outputs": [
    {
     "data": {
      "text/plain": [
       "year                        0\n",
       "state                       0\n",
       "Diabetes_Value              0\n",
       "Income_Inequity             0\n",
       "Median_Household_Income     0\n",
       "Obesity                     0\n",
       "Smoking                     0\n",
       "AGE_ADJUSTED_RATE          17\n",
       "dtype: int64"
      ]
     },
     "execution_count": 23,
     "metadata": {},
     "output_type": "execute_result"
    }
   ],
   "source": [
    "df3.isnull().sum()"
   ]
  },
  {
   "cell_type": "code",
   "execution_count": 24,
   "metadata": {},
   "outputs": [
    {
     "data": {
      "text/html": [
       "<div>\n",
       "<style scoped>\n",
       "    .dataframe tbody tr th:only-of-type {\n",
       "        vertical-align: middle;\n",
       "    }\n",
       "\n",
       "    .dataframe tbody tr th {\n",
       "        vertical-align: top;\n",
       "    }\n",
       "\n",
       "    .dataframe thead th {\n",
       "        text-align: right;\n",
       "    }\n",
       "</style>\n",
       "<table border=\"1\" class=\"dataframe\">\n",
       "  <thead>\n",
       "    <tr style=\"text-align: right;\">\n",
       "      <th></th>\n",
       "      <th>year</th>\n",
       "      <th>state</th>\n",
       "      <th>Diabetes_Value</th>\n",
       "      <th>Income_Inequity</th>\n",
       "      <th>Median_Household_Income</th>\n",
       "      <th>Obesity</th>\n",
       "      <th>Smoking</th>\n",
       "      <th>AGE_ADJUSTED_RATE</th>\n",
       "    </tr>\n",
       "  </thead>\n",
       "  <tbody>\n",
       "    <tr>\n",
       "      <th>0</th>\n",
       "      <td>1999</td>\n",
       "      <td>Alabama</td>\n",
       "      <td>0.371681</td>\n",
       "      <td>0.304348</td>\n",
       "      <td>0.376656</td>\n",
       "      <td>0.381356</td>\n",
       "      <td>0.659574</td>\n",
       "      <td>210.8</td>\n",
       "    </tr>\n",
       "    <tr>\n",
       "      <th>1</th>\n",
       "      <td>1999</td>\n",
       "      <td>Alaska</td>\n",
       "      <td>0.017699</td>\n",
       "      <td>0.260870</td>\n",
       "      <td>0.854237</td>\n",
       "      <td>0.385593</td>\n",
       "      <td>0.723404</td>\n",
       "      <td>193.8</td>\n",
       "    </tr>\n",
       "    <tr>\n",
       "      <th>2</th>\n",
       "      <td>1999</td>\n",
       "      <td>Arizona</td>\n",
       "      <td>0.000000</td>\n",
       "      <td>0.429348</td>\n",
       "      <td>0.403934</td>\n",
       "      <td>0.033898</td>\n",
       "      <td>0.540426</td>\n",
       "      <td>179.8</td>\n",
       "    </tr>\n",
       "    <tr>\n",
       "      <th>3</th>\n",
       "      <td>1999</td>\n",
       "      <td>Arkansas</td>\n",
       "      <td>0.345133</td>\n",
       "      <td>0.336957</td>\n",
       "      <td>0.091925</td>\n",
       "      <td>0.317797</td>\n",
       "      <td>0.714894</td>\n",
       "      <td>213.9</td>\n",
       "    </tr>\n",
       "    <tr>\n",
       "      <th>4</th>\n",
       "      <td>1999</td>\n",
       "      <td>California</td>\n",
       "      <td>0.238938</td>\n",
       "      <td>0.407609</td>\n",
       "      <td>0.531187</td>\n",
       "      <td>0.211864</td>\n",
       "      <td>0.429787</td>\n",
       "      <td>185.1</td>\n",
       "    </tr>\n",
       "  </tbody>\n",
       "</table>\n",
       "</div>"
      ],
      "text/plain": [
       "   year       state  Diabetes_Value  Income_Inequity  Median_Household_Income  \\\n",
       "0  1999     Alabama        0.371681         0.304348                 0.376656   \n",
       "1  1999      Alaska        0.017699         0.260870                 0.854237   \n",
       "2  1999     Arizona        0.000000         0.429348                 0.403934   \n",
       "3  1999    Arkansas        0.345133         0.336957                 0.091925   \n",
       "4  1999  California        0.238938         0.407609                 0.531187   \n",
       "\n",
       "    Obesity   Smoking  AGE_ADJUSTED_RATE  \n",
       "0  0.381356  0.659574              210.8  \n",
       "1  0.385593  0.723404              193.8  \n",
       "2  0.033898  0.540426              179.8  \n",
       "3  0.317797  0.714894              213.9  \n",
       "4  0.211864  0.429787              185.1  "
      ]
     },
     "execution_count": 24,
     "metadata": {},
     "output_type": "execute_result"
    }
   ],
   "source": [
    "df3['AGE_ADJUSTED_RATE'] = df3['AGE_ADJUSTED_RATE'].fillna(df3['AGE_ADJUSTED_RATE'].mean())\n",
    "df3.head()"
   ]
  },
  {
   "cell_type": "code",
   "execution_count": 25,
   "metadata": {},
   "outputs": [
    {
     "data": {
      "text/html": [
       "<div>\n",
       "<style scoped>\n",
       "    .dataframe tbody tr th:only-of-type {\n",
       "        vertical-align: middle;\n",
       "    }\n",
       "\n",
       "    .dataframe tbody tr th {\n",
       "        vertical-align: top;\n",
       "    }\n",
       "\n",
       "    .dataframe thead th {\n",
       "        text-align: right;\n",
       "    }\n",
       "</style>\n",
       "<table border=\"1\" class=\"dataframe\">\n",
       "  <thead>\n",
       "    <tr style=\"text-align: right;\">\n",
       "      <th></th>\n",
       "      <th>year</th>\n",
       "      <th>state</th>\n",
       "      <th>Diabetes_Value</th>\n",
       "      <th>Income_Inequity</th>\n",
       "      <th>Median_Household_Income</th>\n",
       "      <th>Obesity</th>\n",
       "      <th>Smoking</th>\n",
       "      <th>AGE_ADJUSTED_RATE</th>\n",
       "    </tr>\n",
       "  </thead>\n",
       "  <tbody>\n",
       "    <tr>\n",
       "      <th>0</th>\n",
       "      <td>1999</td>\n",
       "      <td>Alabama</td>\n",
       "      <td>0.371681</td>\n",
       "      <td>0.304348</td>\n",
       "      <td>0.376656</td>\n",
       "      <td>0.381356</td>\n",
       "      <td>0.659574</td>\n",
       "      <td>0.736707</td>\n",
       "    </tr>\n",
       "    <tr>\n",
       "      <th>1</th>\n",
       "      <td>1999</td>\n",
       "      <td>Alaska</td>\n",
       "      <td>0.017699</td>\n",
       "      <td>0.260870</td>\n",
       "      <td>0.854237</td>\n",
       "      <td>0.385593</td>\n",
       "      <td>0.723404</td>\n",
       "      <td>0.590909</td>\n",
       "    </tr>\n",
       "    <tr>\n",
       "      <th>2</th>\n",
       "      <td>1999</td>\n",
       "      <td>Arizona</td>\n",
       "      <td>0.000000</td>\n",
       "      <td>0.429348</td>\n",
       "      <td>0.403934</td>\n",
       "      <td>0.033898</td>\n",
       "      <td>0.540426</td>\n",
       "      <td>0.470840</td>\n",
       "    </tr>\n",
       "    <tr>\n",
       "      <th>3</th>\n",
       "      <td>1999</td>\n",
       "      <td>Arkansas</td>\n",
       "      <td>0.345133</td>\n",
       "      <td>0.336957</td>\n",
       "      <td>0.091925</td>\n",
       "      <td>0.317797</td>\n",
       "      <td>0.714894</td>\n",
       "      <td>0.763293</td>\n",
       "    </tr>\n",
       "    <tr>\n",
       "      <th>4</th>\n",
       "      <td>1999</td>\n",
       "      <td>California</td>\n",
       "      <td>0.238938</td>\n",
       "      <td>0.407609</td>\n",
       "      <td>0.531187</td>\n",
       "      <td>0.211864</td>\n",
       "      <td>0.429787</td>\n",
       "      <td>0.516295</td>\n",
       "    </tr>\n",
       "  </tbody>\n",
       "</table>\n",
       "</div>"
      ],
      "text/plain": [
       "   year       state  Diabetes_Value  Income_Inequity  Median_Household_Income  \\\n",
       "0  1999     Alabama        0.371681         0.304348                 0.376656   \n",
       "1  1999      Alaska        0.017699         0.260870                 0.854237   \n",
       "2  1999     Arizona        0.000000         0.429348                 0.403934   \n",
       "3  1999    Arkansas        0.345133         0.336957                 0.091925   \n",
       "4  1999  California        0.238938         0.407609                 0.531187   \n",
       "\n",
       "    Obesity   Smoking  AGE_ADJUSTED_RATE  \n",
       "0  0.381356  0.659574           0.736707  \n",
       "1  0.385593  0.723404           0.590909  \n",
       "2  0.033898  0.540426           0.470840  \n",
       "3  0.317797  0.714894           0.763293  \n",
       "4  0.211864  0.429787           0.516295  "
      ]
     },
     "execution_count": 25,
     "metadata": {},
     "output_type": "execute_result"
    }
   ],
   "source": [
    "df3 = normalize(df3,['AGE_ADJUSTED_RATE'])\n",
    "df3.head()"
   ]
  },
  {
   "cell_type": "code",
   "execution_count": 26,
   "metadata": {
    "collapsed": true
   },
   "outputs": [],
   "source": [
    "node_index = 0\n",
    "for index, row in df3.iterrows():\n",
    "    \n",
    "        node_name = str(df3.loc[node_index]['year'])+'_'+df3.loc[node_index]['state']\n",
    "        rate = df3.loc[node_index]['AGE_ADJUSTED_RATE']\n",
    "        vec = vecs[node_index]\n",
    "        \n",
    "        record = [node_index, node_name, rate, vec]\n",
    "\n",
    "        nodelist.loc[len(nodelist)] = record\n",
    "        #print(source_index)\n",
    "        node_index+=1"
   ]
  },
  {
   "cell_type": "code",
   "execution_count": 27,
   "metadata": {},
   "outputs": [
    {
     "data": {
      "text/html": [
       "<div>\n",
       "<style scoped>\n",
       "    .dataframe tbody tr th:only-of-type {\n",
       "        vertical-align: middle;\n",
       "    }\n",
       "\n",
       "    .dataframe tbody tr th {\n",
       "        vertical-align: top;\n",
       "    }\n",
       "\n",
       "    .dataframe thead th {\n",
       "        text-align: right;\n",
       "    }\n",
       "</style>\n",
       "<table border=\"1\" class=\"dataframe\">\n",
       "  <thead>\n",
       "    <tr style=\"text-align: right;\">\n",
       "      <th></th>\n",
       "      <th>ID</th>\n",
       "      <th>NodeName</th>\n",
       "      <th>Rate</th>\n",
       "      <th>Vectors</th>\n",
       "    </tr>\n",
       "  </thead>\n",
       "  <tbody>\n",
       "    <tr>\n",
       "      <th>0</th>\n",
       "      <td>0</td>\n",
       "      <td>1999_Alabama</td>\n",
       "      <td>0.736707</td>\n",
       "      <td>[0.3716814159292035, 0.3043478260869566, 0.376...</td>\n",
       "    </tr>\n",
       "    <tr>\n",
       "      <th>1</th>\n",
       "      <td>1</td>\n",
       "      <td>1999_Alaska</td>\n",
       "      <td>0.590909</td>\n",
       "      <td>[0.0176991150442478, 0.2608695652173914, 0.854...</td>\n",
       "    </tr>\n",
       "    <tr>\n",
       "      <th>2</th>\n",
       "      <td>2</td>\n",
       "      <td>1999_Arizona</td>\n",
       "      <td>0.470840</td>\n",
       "      <td>[0.0, 0.42934782608695665, 0.40393403075781126...</td>\n",
       "    </tr>\n",
       "    <tr>\n",
       "      <th>3</th>\n",
       "      <td>3</td>\n",
       "      <td>1999_Arkansas</td>\n",
       "      <td>0.763293</td>\n",
       "      <td>[0.3451327433628319, 0.33695652173913054, 0.09...</td>\n",
       "    </tr>\n",
       "    <tr>\n",
       "      <th>4</th>\n",
       "      <td>4</td>\n",
       "      <td>1999_California</td>\n",
       "      <td>0.516295</td>\n",
       "      <td>[0.23893805309734514, 0.4076086956521737, 0.53...</td>\n",
       "    </tr>\n",
       "  </tbody>\n",
       "</table>\n",
       "</div>"
      ],
      "text/plain": [
       "  ID         NodeName      Rate  \\\n",
       "0  0     1999_Alabama  0.736707   \n",
       "1  1      1999_Alaska  0.590909   \n",
       "2  2     1999_Arizona  0.470840   \n",
       "3  3    1999_Arkansas  0.763293   \n",
       "4  4  1999_California  0.516295   \n",
       "\n",
       "                                             Vectors  \n",
       "0  [0.3716814159292035, 0.3043478260869566, 0.376...  \n",
       "1  [0.0176991150442478, 0.2608695652173914, 0.854...  \n",
       "2  [0.0, 0.42934782608695665, 0.40393403075781126...  \n",
       "3  [0.3451327433628319, 0.33695652173913054, 0.09...  \n",
       "4  [0.23893805309734514, 0.4076086956521737, 0.53...  "
      ]
     },
     "execution_count": 27,
     "metadata": {},
     "output_type": "execute_result"
    }
   ],
   "source": [
    "nodelist.head()"
   ]
  },
  {
   "cell_type": "code",
   "execution_count": 39,
   "metadata": {
    "collapsed": true
   },
   "outputs": [],
   "source": [
    "nodelist.to_csv('nodelist.csv',sep=',',header=True)"
   ]
  },
  {
   "cell_type": "code",
   "execution_count": 40,
   "metadata": {
    "collapsed": true
   },
   "outputs": [],
   "source": [
    "edgelist.to_csv('edgelist.csv',sep=',',header=True)"
   ]
  },
  {
   "cell_type": "code",
   "execution_count": 28,
   "metadata": {},
   "outputs": [
    {
     "data": {
      "text/html": [
       "<div>\n",
       "<style scoped>\n",
       "    .dataframe tbody tr th:only-of-type {\n",
       "        vertical-align: middle;\n",
       "    }\n",
       "\n",
       "    .dataframe tbody tr th {\n",
       "        vertical-align: top;\n",
       "    }\n",
       "\n",
       "    .dataframe thead th {\n",
       "        text-align: right;\n",
       "    }\n",
       "</style>\n",
       "<table border=\"1\" class=\"dataframe\">\n",
       "  <thead>\n",
       "    <tr style=\"text-align: right;\">\n",
       "      <th></th>\n",
       "      <th>year</th>\n",
       "      <th>state</th>\n",
       "      <th>Diabetes_Value</th>\n",
       "      <th>Income_Inequity</th>\n",
       "      <th>Median_Household_Income</th>\n",
       "      <th>Obesity</th>\n",
       "      <th>Smoking</th>\n",
       "      <th>AGE_ADJUSTED_RATE</th>\n",
       "    </tr>\n",
       "  </thead>\n",
       "  <tbody>\n",
       "    <tr>\n",
       "      <th>0</th>\n",
       "      <td>1999</td>\n",
       "      <td>Alabama</td>\n",
       "      <td>0.371681</td>\n",
       "      <td>0.304348</td>\n",
       "      <td>0.376656</td>\n",
       "      <td>0.381356</td>\n",
       "      <td>0.659574</td>\n",
       "      <td>0.736707</td>\n",
       "    </tr>\n",
       "    <tr>\n",
       "      <th>1</th>\n",
       "      <td>1999</td>\n",
       "      <td>Alaska</td>\n",
       "      <td>0.017699</td>\n",
       "      <td>0.260870</td>\n",
       "      <td>0.854237</td>\n",
       "      <td>0.385593</td>\n",
       "      <td>0.723404</td>\n",
       "      <td>0.590909</td>\n",
       "    </tr>\n",
       "    <tr>\n",
       "      <th>2</th>\n",
       "      <td>1999</td>\n",
       "      <td>Arizona</td>\n",
       "      <td>0.000000</td>\n",
       "      <td>0.429348</td>\n",
       "      <td>0.403934</td>\n",
       "      <td>0.033898</td>\n",
       "      <td>0.540426</td>\n",
       "      <td>0.470840</td>\n",
       "    </tr>\n",
       "    <tr>\n",
       "      <th>3</th>\n",
       "      <td>1999</td>\n",
       "      <td>Arkansas</td>\n",
       "      <td>0.345133</td>\n",
       "      <td>0.336957</td>\n",
       "      <td>0.091925</td>\n",
       "      <td>0.317797</td>\n",
       "      <td>0.714894</td>\n",
       "      <td>0.763293</td>\n",
       "    </tr>\n",
       "    <tr>\n",
       "      <th>4</th>\n",
       "      <td>1999</td>\n",
       "      <td>California</td>\n",
       "      <td>0.238938</td>\n",
       "      <td>0.407609</td>\n",
       "      <td>0.531187</td>\n",
       "      <td>0.211864</td>\n",
       "      <td>0.429787</td>\n",
       "      <td>0.516295</td>\n",
       "    </tr>\n",
       "  </tbody>\n",
       "</table>\n",
       "</div>"
      ],
      "text/plain": [
       "   year       state  Diabetes_Value  Income_Inequity  Median_Household_Income  \\\n",
       "0  1999     Alabama        0.371681         0.304348                 0.376656   \n",
       "1  1999      Alaska        0.017699         0.260870                 0.854237   \n",
       "2  1999     Arizona        0.000000         0.429348                 0.403934   \n",
       "3  1999    Arkansas        0.345133         0.336957                 0.091925   \n",
       "4  1999  California        0.238938         0.407609                 0.531187   \n",
       "\n",
       "    Obesity   Smoking  AGE_ADJUSTED_RATE  \n",
       "0  0.381356  0.659574           0.736707  \n",
       "1  0.385593  0.723404           0.590909  \n",
       "2  0.033898  0.540426           0.470840  \n",
       "3  0.317797  0.714894           0.763293  \n",
       "4  0.211864  0.429787           0.516295  "
      ]
     },
     "execution_count": 28,
     "metadata": {},
     "output_type": "execute_result"
    }
   ],
   "source": [
    "df3.head()"
   ]
  },
  {
   "cell_type": "code",
   "execution_count": 29,
   "metadata": {
    "collapsed": true
   },
   "outputs": [],
   "source": [
    "df4 = df3.drop(columns=['year'])"
   ]
  },
  {
   "cell_type": "code",
   "execution_count": 30,
   "metadata": {},
   "outputs": [
    {
     "data": {
      "text/html": [
       "<div>\n",
       "<style scoped>\n",
       "    .dataframe tbody tr th:only-of-type {\n",
       "        vertical-align: middle;\n",
       "    }\n",
       "\n",
       "    .dataframe tbody tr th {\n",
       "        vertical-align: top;\n",
       "    }\n",
       "\n",
       "    .dataframe thead th {\n",
       "        text-align: right;\n",
       "    }\n",
       "</style>\n",
       "<table border=\"1\" class=\"dataframe\">\n",
       "  <thead>\n",
       "    <tr style=\"text-align: right;\">\n",
       "      <th></th>\n",
       "      <th>state</th>\n",
       "      <th>Diabetes_Value</th>\n",
       "      <th>Income_Inequity</th>\n",
       "      <th>Median_Household_Income</th>\n",
       "      <th>Obesity</th>\n",
       "      <th>Smoking</th>\n",
       "      <th>AGE_ADJUSTED_RATE</th>\n",
       "    </tr>\n",
       "  </thead>\n",
       "  <tbody>\n",
       "    <tr>\n",
       "      <th>0</th>\n",
       "      <td>Alabama</td>\n",
       "      <td>0.371681</td>\n",
       "      <td>0.304348</td>\n",
       "      <td>0.376656</td>\n",
       "      <td>0.381356</td>\n",
       "      <td>0.659574</td>\n",
       "      <td>0.736707</td>\n",
       "    </tr>\n",
       "    <tr>\n",
       "      <th>1</th>\n",
       "      <td>Alaska</td>\n",
       "      <td>0.017699</td>\n",
       "      <td>0.260870</td>\n",
       "      <td>0.854237</td>\n",
       "      <td>0.385593</td>\n",
       "      <td>0.723404</td>\n",
       "      <td>0.590909</td>\n",
       "    </tr>\n",
       "    <tr>\n",
       "      <th>2</th>\n",
       "      <td>Arizona</td>\n",
       "      <td>0.000000</td>\n",
       "      <td>0.429348</td>\n",
       "      <td>0.403934</td>\n",
       "      <td>0.033898</td>\n",
       "      <td>0.540426</td>\n",
       "      <td>0.470840</td>\n",
       "    </tr>\n",
       "    <tr>\n",
       "      <th>3</th>\n",
       "      <td>Arkansas</td>\n",
       "      <td>0.345133</td>\n",
       "      <td>0.336957</td>\n",
       "      <td>0.091925</td>\n",
       "      <td>0.317797</td>\n",
       "      <td>0.714894</td>\n",
       "      <td>0.763293</td>\n",
       "    </tr>\n",
       "    <tr>\n",
       "      <th>4</th>\n",
       "      <td>California</td>\n",
       "      <td>0.238938</td>\n",
       "      <td>0.407609</td>\n",
       "      <td>0.531187</td>\n",
       "      <td>0.211864</td>\n",
       "      <td>0.429787</td>\n",
       "      <td>0.516295</td>\n",
       "    </tr>\n",
       "  </tbody>\n",
       "</table>\n",
       "</div>"
      ],
      "text/plain": [
       "        state  Diabetes_Value  Income_Inequity  Median_Household_Income  \\\n",
       "0     Alabama        0.371681         0.304348                 0.376656   \n",
       "1      Alaska        0.017699         0.260870                 0.854237   \n",
       "2     Arizona        0.000000         0.429348                 0.403934   \n",
       "3    Arkansas        0.345133         0.336957                 0.091925   \n",
       "4  California        0.238938         0.407609                 0.531187   \n",
       "\n",
       "    Obesity   Smoking  AGE_ADJUSTED_RATE  \n",
       "0  0.381356  0.659574           0.736707  \n",
       "1  0.385593  0.723404           0.590909  \n",
       "2  0.033898  0.540426           0.470840  \n",
       "3  0.317797  0.714894           0.763293  \n",
       "4  0.211864  0.429787           0.516295  "
      ]
     },
     "execution_count": 30,
     "metadata": {},
     "output_type": "execute_result"
    }
   ],
   "source": [
    "df4.head()"
   ]
  },
  {
   "cell_type": "code",
   "execution_count": 31,
   "metadata": {
    "collapsed": true
   },
   "outputs": [],
   "source": [
    "state_group = df4.groupby('state')"
   ]
  },
  {
   "cell_type": "code",
   "execution_count": 32,
   "metadata": {
    "collapsed": true
   },
   "outputs": [],
   "source": [
    "Diabetes_Value = pd.DataFrame(state_group['Diabetes_Value'].mean().reset_index(name='Diabetes_Value'))\n",
    "Income_Inequity = pd.DataFrame(state_group['Income_Inequity'].mean().reset_index(name='Income_Inequity'))\n",
    "Median_Household_Income = pd.DataFrame(state_group['Median_Household_Income'].mean().reset_index(name='Median_Household_Income'))\n",
    "Obesity = pd.DataFrame(state_group['Obesity'].mean().reset_index(name='Obesity'))\n",
    "Smoking = pd.DataFrame(state_group['Smoking'].mean().reset_index(name='Smoking'))\n",
    "AGE_ADJUSTED_RATE = pd.DataFrame(state_group['AGE_ADJUSTED_RATE'].mean().reset_index(name='AGE_ADJUSTED_RATE'))"
   ]
  },
  {
   "cell_type": "code",
   "execution_count": 33,
   "metadata": {
    "collapsed": true
   },
   "outputs": [],
   "source": [
    "df5 = pd.merge(Diabetes_Value, Income_Inequity, how='left', left_on=['state'], right_on=['state'])\n",
    "df5 = pd.merge(df5, Median_Household_Income, how='left', left_on=['state'], right_on=['state'])\n",
    "df5 = pd.merge(df5, Obesity, how='left', left_on=['state'], right_on=['state'])\n",
    "df5 = pd.merge(df5, Smoking, how='left', left_on=['state'], right_on=['state'])\n",
    "df5 = pd.merge(df5, AGE_ADJUSTED_RATE, how='left', left_on=['state'], right_on=['state'])"
   ]
  },
  {
   "cell_type": "code",
   "execution_count": 34,
   "metadata": {
    "collapsed": true
   },
   "outputs": [],
   "source": [
    "vecs2 = []\n",
    "features = ['Diabetes_Value','Income_Inequity','Median_Household_Income','Obesity','Smoking']\n",
    "\n",
    "for index, row in df5.iterrows():\n",
    "    vec = []\n",
    "    vec.append(round(row['Diabetes_Value'],2))\n",
    "    vec.append(round(row['Income_Inequity'],2))\n",
    "    vec.append(round(row['Median_Household_Income'],2))\n",
    "    vec.append(round(row['Obesity'],2))\n",
    "    vec.append(round(row['Smoking'],2))\n",
    "    vecs2.append(vec)"
   ]
  },
  {
   "cell_type": "code",
   "execution_count": 35,
   "metadata": {},
   "outputs": [
    {
     "data": {
      "text/plain": [
       "[0.22, 0.17, 0.74, 0.54, 0.63]"
      ]
     },
     "execution_count": 35,
     "metadata": {},
     "output_type": "execute_result"
    }
   ],
   "source": [
    "vecs2[1]"
   ]
  },
  {
   "cell_type": "code",
   "execution_count": 17,
   "metadata": {},
   "outputs": [],
   "source": [
    "cos_sim_list = []\n",
    "sim_index_list2 = []\n",
    "vecs2 = vecs\n",
    "\n",
    "vec_index = 0\n",
    "for vec1 in vecs2:\n",
    "    cos_sim_list = []\n",
    "    for vec2 in vecs2:\n",
    "        cos_sim_list.append(cosine_similarity(vec1,vec2))\n",
    "    cos_sim_list = np.array(cos_sim_list)\n",
    "    choices = list(cos_sim_list.argsort()[-4:][::-1][1:4])\n",
    "    sim_index_list2.append(choices)\n",
    "    vec_index+=1"
   ]
  },
  {
   "cell_type": "code",
   "execution_count": 18,
   "metadata": {},
   "outputs": [
    {
     "data": {
      "text/plain": [
       "44"
      ]
     },
     "execution_count": 18,
     "metadata": {},
     "output_type": "execute_result"
    }
   ],
   "source": [
    "len(sim_index_list2)"
   ]
  },
  {
   "cell_type": "code",
   "execution_count": 19,
   "metadata": {},
   "outputs": [
    {
     "data": {
      "text/plain": [
       "[[33, 20, 2], [17, 32, 14], [0, 20, 3]]"
      ]
     },
     "execution_count": 19,
     "metadata": {},
     "output_type": "execute_result"
    }
   ],
   "source": [
    "sim_index_list2[:3]"
   ]
  },
  {
   "cell_type": "code",
   "execution_count": 20,
   "metadata": {
    "collapsed": true
   },
   "outputs": [],
   "source": [
    "col_edgelist = ['SourceNmae','TargetName','SourceID','TargetID','CosSim']\n",
    "edgelist2 = pd.DataFrame(columns = col_edgelist)\n",
    "\n",
    "source_index = 0\n",
    "for indexes in sim_index_list2:\n",
    "    for target_index in indexes:\n",
    "        \n",
    "        source_name = df.loc[source_index]['country']\n",
    "        target_name = df.loc[target_index]['country']\n",
    "        cos_sim = cosine_similarity(vecs[source_index],vecs[target_index])\n",
    "        \n",
    "        record = [source_name,target_name,source_index,target_index,cos_sim]\n",
    "\n",
    "        edgelist2.loc[len(edgelist2)] = record\n",
    "    #print(source_index)\n",
    "    source_index+=1"
   ]
  },
  {
   "cell_type": "code",
   "execution_count": 21,
   "metadata": {},
   "outputs": [
    {
     "data": {
      "text/html": [
       "<div>\n",
       "<style scoped>\n",
       "    .dataframe tbody tr th:only-of-type {\n",
       "        vertical-align: middle;\n",
       "    }\n",
       "\n",
       "    .dataframe tbody tr th {\n",
       "        vertical-align: top;\n",
       "    }\n",
       "\n",
       "    .dataframe thead th {\n",
       "        text-align: right;\n",
       "    }\n",
       "</style>\n",
       "<table border=\"1\" class=\"dataframe\">\n",
       "  <thead>\n",
       "    <tr style=\"text-align: right;\">\n",
       "      <th></th>\n",
       "      <th>SourceNmae</th>\n",
       "      <th>TargetName</th>\n",
       "      <th>SourceID</th>\n",
       "      <th>TargetID</th>\n",
       "      <th>CosSim</th>\n",
       "    </tr>\n",
       "  </thead>\n",
       "  <tbody>\n",
       "    <tr>\n",
       "      <th>0</th>\n",
       "      <td>Belgium</td>\n",
       "      <td>Thailand</td>\n",
       "      <td>0</td>\n",
       "      <td>33</td>\n",
       "      <td>0.960693</td>\n",
       "    </tr>\n",
       "    <tr>\n",
       "      <th>1</th>\n",
       "      <td>Belgium</td>\n",
       "      <td>Argentina</td>\n",
       "      <td>0</td>\n",
       "      <td>20</td>\n",
       "      <td>0.954054</td>\n",
       "    </tr>\n",
       "    <tr>\n",
       "      <th>2</th>\n",
       "      <td>Belgium</td>\n",
       "      <td>France</td>\n",
       "      <td>0</td>\n",
       "      <td>2</td>\n",
       "      <td>0.946845</td>\n",
       "    </tr>\n",
       "    <tr>\n",
       "      <th>3</th>\n",
       "      <td>Czech Rep.</td>\n",
       "      <td>Uzbekistan</td>\n",
       "      <td>1</td>\n",
       "      <td>17</td>\n",
       "      <td>0.987454</td>\n",
       "    </tr>\n",
       "    <tr>\n",
       "      <th>4</th>\n",
       "      <td>Czech Rep.</td>\n",
       "      <td>Taiwan</td>\n",
       "      <td>1</td>\n",
       "      <td>32</td>\n",
       "      <td>0.978449</td>\n",
       "    </tr>\n",
       "  </tbody>\n",
       "</table>\n",
       "</div>"
      ],
      "text/plain": [
       "   SourceNmae  TargetName SourceID TargetID    CosSim\n",
       "0     Belgium    Thailand        0       33  0.960693\n",
       "1     Belgium   Argentina        0       20  0.954054\n",
       "2     Belgium      France        0        2  0.946845\n",
       "3  Czech Rep.  Uzbekistan        1       17  0.987454\n",
       "4  Czech Rep.      Taiwan        1       32  0.978449"
      ]
     },
     "execution_count": 21,
     "metadata": {},
     "output_type": "execute_result"
    }
   ],
   "source": [
    "edgelist2.head()"
   ]
  },
  {
   "cell_type": "code",
   "execution_count": 22,
   "metadata": {
    "collapsed": true
   },
   "outputs": [],
   "source": [
    "col_nodelist = ['ID','NodeName','Rate','Vectors']\n",
    "nodelist2 = pd.DataFrame(columns = col_nodelist)"
   ]
  },
  {
   "cell_type": "code",
   "execution_count": 23,
   "metadata": {},
   "outputs": [
    {
     "data": {
      "text/html": [
       "<div>\n",
       "<style scoped>\n",
       "    .dataframe tbody tr th:only-of-type {\n",
       "        vertical-align: middle;\n",
       "    }\n",
       "\n",
       "    .dataframe tbody tr th {\n",
       "        vertical-align: top;\n",
       "    }\n",
       "\n",
       "    .dataframe thead th {\n",
       "        text-align: right;\n",
       "    }\n",
       "</style>\n",
       "<table border=\"1\" class=\"dataframe\">\n",
       "  <thead>\n",
       "    <tr style=\"text-align: right;\">\n",
       "      <th></th>\n",
       "      <th>country</th>\n",
       "      <th>crude_oil_production</th>\n",
       "      <th>crude_oil_consumption</th>\n",
       "      <th>gas_production</th>\n",
       "      <th>gas_consumption</th>\n",
       "      <th>coal_production</th>\n",
       "      <th>coal_consumption</th>\n",
       "      <th>renew_share</th>\n",
       "      <th>energy_intensity</th>\n",
       "      <th>co2_intensity</th>\n",
       "    </tr>\n",
       "  </thead>\n",
       "  <tbody>\n",
       "    <tr>\n",
       "      <th>0</th>\n",
       "      <td>Belgium</td>\n",
       "      <td>0</td>\n",
       "      <td>36</td>\n",
       "      <td>0</td>\n",
       "      <td>18</td>\n",
       "      <td>0</td>\n",
       "      <td>4</td>\n",
       "      <td>18.65</td>\n",
       "      <td>0.105</td>\n",
       "      <td>0.178</td>\n",
       "    </tr>\n",
       "    <tr>\n",
       "      <th>1</th>\n",
       "      <td>Czech Rep.</td>\n",
       "      <td>0</td>\n",
       "      <td>8</td>\n",
       "      <td>0</td>\n",
       "      <td>9</td>\n",
       "      <td>45</td>\n",
       "      <td>45</td>\n",
       "      <td>12.45</td>\n",
       "      <td>0.115</td>\n",
       "      <td>0.278</td>\n",
       "    </tr>\n",
       "    <tr>\n",
       "      <th>2</th>\n",
       "      <td>France</td>\n",
       "      <td>1</td>\n",
       "      <td>60</td>\n",
       "      <td>0</td>\n",
       "      <td>45</td>\n",
       "      <td>0</td>\n",
       "      <td>15</td>\n",
       "      <td>17.56</td>\n",
       "      <td>0.086</td>\n",
       "      <td>0.115</td>\n",
       "    </tr>\n",
       "    <tr>\n",
       "      <th>3</th>\n",
       "      <td>Germany</td>\n",
       "      <td>4</td>\n",
       "      <td>101</td>\n",
       "      <td>7</td>\n",
       "      <td>94</td>\n",
       "      <td>175</td>\n",
       "      <td>222</td>\n",
       "      <td>33.98</td>\n",
       "      <td>0.077</td>\n",
       "      <td>0.192</td>\n",
       "    </tr>\n",
       "    <tr>\n",
       "      <th>4</th>\n",
       "      <td>Italy</td>\n",
       "      <td>6</td>\n",
       "      <td>73</td>\n",
       "      <td>6</td>\n",
       "      <td>75</td>\n",
       "      <td>0</td>\n",
       "      <td>15</td>\n",
       "      <td>35.74</td>\n",
       "      <td>0.066</td>\n",
       "      <td>0.141</td>\n",
       "    </tr>\n",
       "  </tbody>\n",
       "</table>\n",
       "</div>"
      ],
      "text/plain": [
       "      country  crude_oil_production  crude_oil_consumption  gas_production  \\\n",
       "0     Belgium                     0                     36               0   \n",
       "1  Czech Rep.                     0                      8               0   \n",
       "2      France                     1                     60               0   \n",
       "3     Germany                     4                    101               7   \n",
       "4       Italy                     6                     73               6   \n",
       "\n",
       "   gas_consumption  coal_production  coal_consumption  renew_share  \\\n",
       "0               18                0                 4        18.65   \n",
       "1                9               45                45        12.45   \n",
       "2               45                0                15        17.56   \n",
       "3               94              175               222        33.98   \n",
       "4               75                0                15        35.74   \n",
       "\n",
       "   energy_intensity  co2_intensity  \n",
       "0             0.105          0.178  \n",
       "1             0.115          0.278  \n",
       "2             0.086          0.115  \n",
       "3             0.077          0.192  \n",
       "4             0.066          0.141  "
      ]
     },
     "execution_count": 23,
     "metadata": {},
     "output_type": "execute_result"
    }
   ],
   "source": [
    "df.head()"
   ]
  },
  {
   "cell_type": "code",
   "execution_count": 25,
   "metadata": {},
   "outputs": [],
   "source": [
    "for index, row in df.iterrows():\n",
    "    \n",
    "    node_name = row['country']\n",
    "    rate = round(row['energy_intensity'],2)\n",
    "    \n",
    "    vec=[]\n",
    "    for element in vecs2[index]:\n",
    "        element = round(element,2)\n",
    "        vec.append(element)\n",
    "\n",
    "    record = [index, node_name, rate, vec]\n",
    "\n",
    "    nodelist2.loc[len(nodelist2)] = record\n",
    "    \n",
    "    "
   ]
  },
  {
   "cell_type": "code",
   "execution_count": 26,
   "metadata": {},
   "outputs": [
    {
     "data": {
      "text/html": [
       "<div>\n",
       "<style scoped>\n",
       "    .dataframe tbody tr th:only-of-type {\n",
       "        vertical-align: middle;\n",
       "    }\n",
       "\n",
       "    .dataframe tbody tr th {\n",
       "        vertical-align: top;\n",
       "    }\n",
       "\n",
       "    .dataframe thead th {\n",
       "        text-align: right;\n",
       "    }\n",
       "</style>\n",
       "<table border=\"1\" class=\"dataframe\">\n",
       "  <thead>\n",
       "    <tr style=\"text-align: right;\">\n",
       "      <th></th>\n",
       "      <th>ID</th>\n",
       "      <th>NodeName</th>\n",
       "      <th>Rate</th>\n",
       "      <th>Vectors</th>\n",
       "    </tr>\n",
       "  </thead>\n",
       "  <tbody>\n",
       "    <tr>\n",
       "      <th>0</th>\n",
       "      <td>0</td>\n",
       "      <td>Belgium</td>\n",
       "      <td>0.10</td>\n",
       "      <td>[0.0, 0.04, 0.0, 0.02, 0.0, 0.0, 0.19, 0.27, 0...</td>\n",
       "    </tr>\n",
       "    <tr>\n",
       "      <th>1</th>\n",
       "      <td>1</td>\n",
       "      <td>Czech Rep.</td>\n",
       "      <td>0.12</td>\n",
       "      <td>[0.0, 0.01, 0.0, 0.01, 0.01, 0.01, 0.13, 0.32,...</td>\n",
       "    </tr>\n",
       "    <tr>\n",
       "      <th>2</th>\n",
       "      <td>2</td>\n",
       "      <td>France</td>\n",
       "      <td>0.09</td>\n",
       "      <td>[0.0, 0.07, 0.0, 0.06, 0.0, 0.0, 0.18, 0.17, 0.1]</td>\n",
       "    </tr>\n",
       "    <tr>\n",
       "      <th>3</th>\n",
       "      <td>3</td>\n",
       "      <td>Germany</td>\n",
       "      <td>0.08</td>\n",
       "      <td>[0.01, 0.12, 0.01, 0.12, 0.05, 0.06, 0.35, 0.1...</td>\n",
       "    </tr>\n",
       "    <tr>\n",
       "      <th>4</th>\n",
       "      <td>4</td>\n",
       "      <td>Italy</td>\n",
       "      <td>0.07</td>\n",
       "      <td>[0.01, 0.08, 0.01, 0.1, 0.0, 0.0, 0.37, 0.07, ...</td>\n",
       "    </tr>\n",
       "  </tbody>\n",
       "</table>\n",
       "</div>"
      ],
      "text/plain": [
       "  ID    NodeName  Rate                                            Vectors\n",
       "0  0     Belgium  0.10  [0.0, 0.04, 0.0, 0.02, 0.0, 0.0, 0.19, 0.27, 0...\n",
       "1  1  Czech Rep.  0.12  [0.0, 0.01, 0.0, 0.01, 0.01, 0.01, 0.13, 0.32,...\n",
       "2  2      France  0.09  [0.0, 0.07, 0.0, 0.06, 0.0, 0.0, 0.18, 0.17, 0.1]\n",
       "3  3     Germany  0.08  [0.01, 0.12, 0.01, 0.12, 0.05, 0.06, 0.35, 0.1...\n",
       "4  4       Italy  0.07  [0.01, 0.08, 0.01, 0.1, 0.0, 0.0, 0.37, 0.07, ..."
      ]
     },
     "execution_count": 26,
     "metadata": {},
     "output_type": "execute_result"
    }
   ],
   "source": [
    "nodelist2.head()"
   ]
  },
  {
   "cell_type": "code",
   "execution_count": 27,
   "metadata": {},
   "outputs": [
    {
     "data": {
      "text/html": [
       "<div>\n",
       "<style scoped>\n",
       "    .dataframe tbody tr th:only-of-type {\n",
       "        vertical-align: middle;\n",
       "    }\n",
       "\n",
       "    .dataframe tbody tr th {\n",
       "        vertical-align: top;\n",
       "    }\n",
       "\n",
       "    .dataframe thead th {\n",
       "        text-align: right;\n",
       "    }\n",
       "</style>\n",
       "<table border=\"1\" class=\"dataframe\">\n",
       "  <thead>\n",
       "    <tr style=\"text-align: right;\">\n",
       "      <th></th>\n",
       "      <th>SourceNmae</th>\n",
       "      <th>TargetName</th>\n",
       "      <th>SourceID</th>\n",
       "      <th>TargetID</th>\n",
       "      <th>CosSim</th>\n",
       "    </tr>\n",
       "  </thead>\n",
       "  <tbody>\n",
       "    <tr>\n",
       "      <th>0</th>\n",
       "      <td>Belgium</td>\n",
       "      <td>Thailand</td>\n",
       "      <td>0</td>\n",
       "      <td>33</td>\n",
       "      <td>0.960693</td>\n",
       "    </tr>\n",
       "    <tr>\n",
       "      <th>1</th>\n",
       "      <td>Belgium</td>\n",
       "      <td>Argentina</td>\n",
       "      <td>0</td>\n",
       "      <td>20</td>\n",
       "      <td>0.954054</td>\n",
       "    </tr>\n",
       "    <tr>\n",
       "      <th>2</th>\n",
       "      <td>Belgium</td>\n",
       "      <td>France</td>\n",
       "      <td>0</td>\n",
       "      <td>2</td>\n",
       "      <td>0.946845</td>\n",
       "    </tr>\n",
       "    <tr>\n",
       "      <th>3</th>\n",
       "      <td>Czech Rep.</td>\n",
       "      <td>Uzbekistan</td>\n",
       "      <td>1</td>\n",
       "      <td>17</td>\n",
       "      <td>0.987454</td>\n",
       "    </tr>\n",
       "    <tr>\n",
       "      <th>4</th>\n",
       "      <td>Czech Rep.</td>\n",
       "      <td>Taiwan</td>\n",
       "      <td>1</td>\n",
       "      <td>32</td>\n",
       "      <td>0.978449</td>\n",
       "    </tr>\n",
       "  </tbody>\n",
       "</table>\n",
       "</div>"
      ],
      "text/plain": [
       "   SourceNmae  TargetName SourceID TargetID    CosSim\n",
       "0     Belgium    Thailand        0       33  0.960693\n",
       "1     Belgium   Argentina        0       20  0.954054\n",
       "2     Belgium      France        0        2  0.946845\n",
       "3  Czech Rep.  Uzbekistan        1       17  0.987454\n",
       "4  Czech Rep.      Taiwan        1       32  0.978449"
      ]
     },
     "execution_count": 27,
     "metadata": {},
     "output_type": "execute_result"
    }
   ],
   "source": [
    "edgelist2.head()"
   ]
  },
  {
   "cell_type": "code",
   "execution_count": 28,
   "metadata": {},
   "outputs": [
    {
     "data": {
      "text/html": [
       "<div>\n",
       "<style scoped>\n",
       "    .dataframe tbody tr th:only-of-type {\n",
       "        vertical-align: middle;\n",
       "    }\n",
       "\n",
       "    .dataframe tbody tr th {\n",
       "        vertical-align: top;\n",
       "    }\n",
       "\n",
       "    .dataframe thead th {\n",
       "        text-align: right;\n",
       "    }\n",
       "</style>\n",
       "<table border=\"1\" class=\"dataframe\">\n",
       "  <thead>\n",
       "    <tr style=\"text-align: right;\">\n",
       "      <th></th>\n",
       "      <th>SourceNmae</th>\n",
       "      <th>TargetName</th>\n",
       "      <th>SourceID</th>\n",
       "      <th>TargetID</th>\n",
       "      <th>CosSim</th>\n",
       "    </tr>\n",
       "  </thead>\n",
       "  <tbody>\n",
       "    <tr>\n",
       "      <th>0</th>\n",
       "      <td>Belgium</td>\n",
       "      <td>Thailand</td>\n",
       "      <td>0</td>\n",
       "      <td>33</td>\n",
       "      <td>0.891953</td>\n",
       "    </tr>\n",
       "    <tr>\n",
       "      <th>1</th>\n",
       "      <td>Belgium</td>\n",
       "      <td>Argentina</td>\n",
       "      <td>0</td>\n",
       "      <td>20</td>\n",
       "      <td>0.873065</td>\n",
       "    </tr>\n",
       "    <tr>\n",
       "      <th>2</th>\n",
       "      <td>Belgium</td>\n",
       "      <td>France</td>\n",
       "      <td>0</td>\n",
       "      <td>2</td>\n",
       "      <td>0.852555</td>\n",
       "    </tr>\n",
       "    <tr>\n",
       "      <th>3</th>\n",
       "      <td>Czech Rep.</td>\n",
       "      <td>Uzbekistan</td>\n",
       "      <td>1</td>\n",
       "      <td>17</td>\n",
       "      <td>0.968081</td>\n",
       "    </tr>\n",
       "    <tr>\n",
       "      <th>4</th>\n",
       "      <td>Czech Rep.</td>\n",
       "      <td>Taiwan</td>\n",
       "      <td>1</td>\n",
       "      <td>32</td>\n",
       "      <td>0.942465</td>\n",
       "    </tr>\n",
       "  </tbody>\n",
       "</table>\n",
       "</div>"
      ],
      "text/plain": [
       "   SourceNmae  TargetName SourceID TargetID    CosSim\n",
       "0     Belgium    Thailand        0       33  0.891953\n",
       "1     Belgium   Argentina        0       20  0.873065\n",
       "2     Belgium      France        0        2  0.852555\n",
       "3  Czech Rep.  Uzbekistan        1       17  0.968081\n",
       "4  Czech Rep.      Taiwan        1       32  0.942465"
      ]
     },
     "execution_count": 28,
     "metadata": {},
     "output_type": "execute_result"
    }
   ],
   "source": [
    "edgelist2 = normalize(edgelist2,['CosSim'])\n",
    "edgelist2.head()"
   ]
  },
  {
   "cell_type": "code",
   "execution_count": 29,
   "metadata": {},
   "outputs": [
    {
     "data": {
      "image/png": "[encoded data removed]",
      "text/plain": [
       "<matplotlib.figure.Figure at 0x10fb296d8>"
      ]
     },
     "metadata": {},
     "output_type": "display_data"
    }
   ],
   "source": [
    "import matplotlib.pyplot as plt\n",
    "plt.hist(edgelist2['CosSim'])\n",
    "plt.show()"
   ]
  },
  {
   "cell_type": "code",
   "execution_count": 31,
   "metadata": {
    "collapsed": true
   },
   "outputs": [],
   "source": [
    "nodelist2.to_csv('nodelist_country.csv',sep=',',header=True)"
   ]
  },
  {
   "cell_type": "code",
   "execution_count": 30,
   "metadata": {
    "collapsed": true
   },
   "outputs": [],
   "source": [
    "edgelist2.to_csv('edgelist_country.csv',sep=',',header=True)"
   ]
  },
  {
   "cell_type": "code",
   "execution_count": null,
   "metadata": {
    "collapsed": true
   },
   "outputs": [],
   "source": []
  }
 ],
 "metadata": {
  "kernelspec": {
   "display_name": "Python 3",
   "language": "python",
   "name": "python3"
  },
  "language_info": {
   "codemirror_mode": {
    "name": "ipython",
    "version": 3
   },
   "file_extension": ".py",
   "mimetype": "text/x-python",
   "name": "python",
   "nbconvert_exporter": "python",
   "pygments_lexer": "ipython3",
   "version": "3.6.1"
  }
 },
 "nbformat": 4,
 "nbformat_minor": 2
}
